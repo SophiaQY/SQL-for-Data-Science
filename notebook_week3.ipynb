{
 "cells": [
  {
   "cell_type": "markdown",
   "metadata": {},
   "source": [
    "# Beyong Descriptive Analysis\n",
    "### Tianjiao Yang"
   ]
  },
  {
   "cell_type": "code",
   "execution_count": 1,
   "metadata": {},
   "outputs": [],
   "source": [
    "import pandas as pd\n",
    "import matplotlib.pyplot as plt\n",
    "import numpy as np\n",
    "from pandasql import sqldf\n",
    "pysqldf = lambda q: sqldf(q, globals())"
   ]
  },
  {
   "cell_type": "code",
   "execution_count": 2,
   "metadata": {},
   "outputs": [
    {
     "name": "stderr",
     "output_type": "stream",
     "text": [
      "Skipping line 109836: unexpected end of data\n"
     ]
    }
   ],
   "source": [
    "athlete_events= pd.read_csv('/home/jovyan/work/athlete_events.csv', error_bad_lines=False, engine=\"python\")\n",
    "region=pd.read_csv('/home/jovyan/work/noc_regions.csv')"
   ]
  },
  {
   "cell_type": "markdown",
   "metadata": {},
   "source": [
    "## Exploring the Relationship between Athletes' Physical Conditions and Performance Achievements\n",
    "Conduct a comprehensive analysis on the association between athletes' physical attributes, including age, gender, height, weight, and the outcome of medal acquisition"
   ]
  },
  {
   "cell_type": "code",
   "execution_count": 3,
   "metadata": {},
   "outputs": [],
   "source": [
    "# subset selection\n",
    "subdf=pysqldf(\"select id, sex, age, height, weight, medal from athlete_events;\")"
   ]
  },
  {
   "cell_type": "code",
   "execution_count": 4,
   "metadata": {},
   "outputs": [],
   "source": [
    "# eliminate nulls except for medal\n",
    "subdf_c=pysqldf(\"select * from subdf where sex is not null and age is not null and height is not null and weight is not null; \")"
   ]
  },
  {
   "cell_type": "code",
   "execution_count": 5,
   "metadata": {},
   "outputs": [
    {
     "name": "stdout",
     "output_type": "stream",
     "text": [
      "<class 'pandas.core.frame.DataFrame'>\n",
      "RangeIndex: 82253 entries, 0 to 82252\n",
      "Data columns (total 6 columns):\n",
      " #   Column  Non-Null Count  Dtype  \n",
      "---  ------  --------------  -----  \n",
      " 0   ID      82253 non-null  int64  \n",
      " 1   Sex     82253 non-null  object \n",
      " 2   Age     82253 non-null  float64\n",
      " 3   Height  82253 non-null  float64\n",
      " 4   Weight  82253 non-null  float64\n",
      " 5   Medal   11585 non-null  object \n",
      "dtypes: float64(3), int64(1), object(2)\n",
      "memory usage: 3.8+ MB\n"
     ]
    }
   ],
   "source": [
    "subdf_c.info()"
   ]
  },
  {
   "cell_type": "code",
   "execution_count": 6,
   "metadata": {},
   "outputs": [],
   "source": [
    "# convert sex values to integer, male: 2, female: 1\n",
    "from sklearn.preprocessing import LabelEncoder\n",
    "label_encoder = LabelEncoder()\n",
    "subdf_c['Sex_c'] = label_encoder.fit_transform(subdf_c['Sex'])+1"
   ]
  },
  {
   "cell_type": "code",
   "execution_count": 7,
   "metadata": {},
   "outputs": [
    {
     "data": {
      "text/html": [
       "<div>\n",
       "<style scoped>\n",
       "    .dataframe tbody tr th:only-of-type {\n",
       "        vertical-align: middle;\n",
       "    }\n",
       "\n",
       "    .dataframe tbody tr th {\n",
       "        vertical-align: top;\n",
       "    }\n",
       "\n",
       "    .dataframe thead th {\n",
       "        text-align: right;\n",
       "    }\n",
       "</style>\n",
       "<table border=\"1\" class=\"dataframe\">\n",
       "  <thead>\n",
       "    <tr style=\"text-align: right;\">\n",
       "      <th></th>\n",
       "      <th>ID</th>\n",
       "      <th>Sex</th>\n",
       "      <th>Age</th>\n",
       "      <th>Height</th>\n",
       "      <th>Weight</th>\n",
       "      <th>Medal</th>\n",
       "      <th>Sex_c</th>\n",
       "    </tr>\n",
       "  </thead>\n",
       "  <tbody>\n",
       "    <tr>\n",
       "      <th>0</th>\n",
       "      <td>1</td>\n",
       "      <td>M</td>\n",
       "      <td>24.0</td>\n",
       "      <td>180.0</td>\n",
       "      <td>80.0</td>\n",
       "      <td>None</td>\n",
       "      <td>2</td>\n",
       "    </tr>\n",
       "    <tr>\n",
       "      <th>1</th>\n",
       "      <td>2</td>\n",
       "      <td>M</td>\n",
       "      <td>23.0</td>\n",
       "      <td>170.0</td>\n",
       "      <td>60.0</td>\n",
       "      <td>None</td>\n",
       "      <td>2</td>\n",
       "    </tr>\n",
       "    <tr>\n",
       "      <th>2</th>\n",
       "      <td>5</td>\n",
       "      <td>F</td>\n",
       "      <td>21.0</td>\n",
       "      <td>185.0</td>\n",
       "      <td>82.0</td>\n",
       "      <td>None</td>\n",
       "      <td>1</td>\n",
       "    </tr>\n",
       "    <tr>\n",
       "      <th>3</th>\n",
       "      <td>5</td>\n",
       "      <td>F</td>\n",
       "      <td>21.0</td>\n",
       "      <td>185.0</td>\n",
       "      <td>82.0</td>\n",
       "      <td>None</td>\n",
       "      <td>1</td>\n",
       "    </tr>\n",
       "    <tr>\n",
       "      <th>4</th>\n",
       "      <td>5</td>\n",
       "      <td>F</td>\n",
       "      <td>25.0</td>\n",
       "      <td>185.0</td>\n",
       "      <td>82.0</td>\n",
       "      <td>None</td>\n",
       "      <td>1</td>\n",
       "    </tr>\n",
       "    <tr>\n",
       "      <th>...</th>\n",
       "      <td>...</td>\n",
       "      <td>...</td>\n",
       "      <td>...</td>\n",
       "      <td>...</td>\n",
       "      <td>...</td>\n",
       "      <td>...</td>\n",
       "      <td>...</td>\n",
       "    </tr>\n",
       "    <tr>\n",
       "      <th>82248</th>\n",
       "      <td>55526</td>\n",
       "      <td>M</td>\n",
       "      <td>24.0</td>\n",
       "      <td>180.0</td>\n",
       "      <td>62.0</td>\n",
       "      <td>None</td>\n",
       "      <td>2</td>\n",
       "    </tr>\n",
       "    <tr>\n",
       "      <th>82249</th>\n",
       "      <td>55526</td>\n",
       "      <td>M</td>\n",
       "      <td>28.0</td>\n",
       "      <td>180.0</td>\n",
       "      <td>62.0</td>\n",
       "      <td>None</td>\n",
       "      <td>2</td>\n",
       "    </tr>\n",
       "    <tr>\n",
       "      <th>82250</th>\n",
       "      <td>55527</td>\n",
       "      <td>M</td>\n",
       "      <td>27.0</td>\n",
       "      <td>175.0</td>\n",
       "      <td>61.0</td>\n",
       "      <td>None</td>\n",
       "      <td>2</td>\n",
       "    </tr>\n",
       "    <tr>\n",
       "      <th>82251</th>\n",
       "      <td>55533</td>\n",
       "      <td>M</td>\n",
       "      <td>29.0</td>\n",
       "      <td>194.0</td>\n",
       "      <td>80.0</td>\n",
       "      <td>None</td>\n",
       "      <td>2</td>\n",
       "    </tr>\n",
       "    <tr>\n",
       "      <th>82252</th>\n",
       "      <td>55533</td>\n",
       "      <td>M</td>\n",
       "      <td>29.0</td>\n",
       "      <td>194.0</td>\n",
       "      <td>80.0</td>\n",
       "      <td>None</td>\n",
       "      <td>2</td>\n",
       "    </tr>\n",
       "  </tbody>\n",
       "</table>\n",
       "<p>82253 rows × 7 columns</p>\n",
       "</div>"
      ],
      "text/plain": [
       "          ID Sex   Age  Height  Weight Medal  Sex_c\n",
       "0          1   M  24.0   180.0    80.0  None      2\n",
       "1          2   M  23.0   170.0    60.0  None      2\n",
       "2          5   F  21.0   185.0    82.0  None      1\n",
       "3          5   F  21.0   185.0    82.0  None      1\n",
       "4          5   F  25.0   185.0    82.0  None      1\n",
       "...      ...  ..   ...     ...     ...   ...    ...\n",
       "82248  55526   M  24.0   180.0    62.0  None      2\n",
       "82249  55526   M  28.0   180.0    62.0  None      2\n",
       "82250  55527   M  27.0   175.0    61.0  None      2\n",
       "82251  55533   M  29.0   194.0    80.0  None      2\n",
       "82252  55533   M  29.0   194.0    80.0  None      2\n",
       "\n",
       "[82253 rows x 7 columns]"
      ]
     },
     "execution_count": 7,
     "metadata": {},
     "output_type": "execute_result"
    }
   ],
   "source": [
    "subdf_c"
   ]
  },
  {
   "cell_type": "code",
   "execution_count": 8,
   "metadata": {},
   "outputs": [],
   "source": [
    "subdf_c['Medal_c']=pysqldf('''\n",
    "                                select \n",
    "                                case when medal is not null then 1\n",
    "                                     else 0\n",
    "                                end as medal_c\n",
    "                                from subdf_c;\n",
    "                                ''')\n",
    " "
   ]
  },
  {
   "cell_type": "code",
   "execution_count": 9,
   "metadata": {},
   "outputs": [
    {
     "data": {
      "text/html": [
       "<div>\n",
       "<style scoped>\n",
       "    .dataframe tbody tr th:only-of-type {\n",
       "        vertical-align: middle;\n",
       "    }\n",
       "\n",
       "    .dataframe tbody tr th {\n",
       "        vertical-align: top;\n",
       "    }\n",
       "\n",
       "    .dataframe thead th {\n",
       "        text-align: right;\n",
       "    }\n",
       "</style>\n",
       "<table border=\"1\" class=\"dataframe\">\n",
       "  <thead>\n",
       "    <tr style=\"text-align: right;\">\n",
       "      <th></th>\n",
       "      <th>ID</th>\n",
       "      <th>Sex</th>\n",
       "      <th>Age</th>\n",
       "      <th>Height</th>\n",
       "      <th>Weight</th>\n",
       "      <th>Medal</th>\n",
       "      <th>Sex_c</th>\n",
       "      <th>Medal_c</th>\n",
       "    </tr>\n",
       "  </thead>\n",
       "  <tbody>\n",
       "    <tr>\n",
       "      <th>0</th>\n",
       "      <td>1</td>\n",
       "      <td>M</td>\n",
       "      <td>24.0</td>\n",
       "      <td>180.0</td>\n",
       "      <td>80.0</td>\n",
       "      <td>None</td>\n",
       "      <td>2</td>\n",
       "      <td>0</td>\n",
       "    </tr>\n",
       "    <tr>\n",
       "      <th>1</th>\n",
       "      <td>2</td>\n",
       "      <td>M</td>\n",
       "      <td>23.0</td>\n",
       "      <td>170.0</td>\n",
       "      <td>60.0</td>\n",
       "      <td>None</td>\n",
       "      <td>2</td>\n",
       "      <td>0</td>\n",
       "    </tr>\n",
       "    <tr>\n",
       "      <th>2</th>\n",
       "      <td>5</td>\n",
       "      <td>F</td>\n",
       "      <td>21.0</td>\n",
       "      <td>185.0</td>\n",
       "      <td>82.0</td>\n",
       "      <td>None</td>\n",
       "      <td>1</td>\n",
       "      <td>0</td>\n",
       "    </tr>\n",
       "    <tr>\n",
       "      <th>3</th>\n",
       "      <td>5</td>\n",
       "      <td>F</td>\n",
       "      <td>21.0</td>\n",
       "      <td>185.0</td>\n",
       "      <td>82.0</td>\n",
       "      <td>None</td>\n",
       "      <td>1</td>\n",
       "      <td>0</td>\n",
       "    </tr>\n",
       "    <tr>\n",
       "      <th>4</th>\n",
       "      <td>5</td>\n",
       "      <td>F</td>\n",
       "      <td>25.0</td>\n",
       "      <td>185.0</td>\n",
       "      <td>82.0</td>\n",
       "      <td>None</td>\n",
       "      <td>1</td>\n",
       "      <td>0</td>\n",
       "    </tr>\n",
       "    <tr>\n",
       "      <th>...</th>\n",
       "      <td>...</td>\n",
       "      <td>...</td>\n",
       "      <td>...</td>\n",
       "      <td>...</td>\n",
       "      <td>...</td>\n",
       "      <td>...</td>\n",
       "      <td>...</td>\n",
       "      <td>...</td>\n",
       "    </tr>\n",
       "    <tr>\n",
       "      <th>82248</th>\n",
       "      <td>55526</td>\n",
       "      <td>M</td>\n",
       "      <td>24.0</td>\n",
       "      <td>180.0</td>\n",
       "      <td>62.0</td>\n",
       "      <td>None</td>\n",
       "      <td>2</td>\n",
       "      <td>0</td>\n",
       "    </tr>\n",
       "    <tr>\n",
       "      <th>82249</th>\n",
       "      <td>55526</td>\n",
       "      <td>M</td>\n",
       "      <td>28.0</td>\n",
       "      <td>180.0</td>\n",
       "      <td>62.0</td>\n",
       "      <td>None</td>\n",
       "      <td>2</td>\n",
       "      <td>0</td>\n",
       "    </tr>\n",
       "    <tr>\n",
       "      <th>82250</th>\n",
       "      <td>55527</td>\n",
       "      <td>M</td>\n",
       "      <td>27.0</td>\n",
       "      <td>175.0</td>\n",
       "      <td>61.0</td>\n",
       "      <td>None</td>\n",
       "      <td>2</td>\n",
       "      <td>0</td>\n",
       "    </tr>\n",
       "    <tr>\n",
       "      <th>82251</th>\n",
       "      <td>55533</td>\n",
       "      <td>M</td>\n",
       "      <td>29.0</td>\n",
       "      <td>194.0</td>\n",
       "      <td>80.0</td>\n",
       "      <td>None</td>\n",
       "      <td>2</td>\n",
       "      <td>0</td>\n",
       "    </tr>\n",
       "    <tr>\n",
       "      <th>82252</th>\n",
       "      <td>55533</td>\n",
       "      <td>M</td>\n",
       "      <td>29.0</td>\n",
       "      <td>194.0</td>\n",
       "      <td>80.0</td>\n",
       "      <td>None</td>\n",
       "      <td>2</td>\n",
       "      <td>0</td>\n",
       "    </tr>\n",
       "  </tbody>\n",
       "</table>\n",
       "<p>82253 rows × 8 columns</p>\n",
       "</div>"
      ],
      "text/plain": [
       "          ID Sex   Age  Height  Weight Medal  Sex_c  Medal_c\n",
       "0          1   M  24.0   180.0    80.0  None      2        0\n",
       "1          2   M  23.0   170.0    60.0  None      2        0\n",
       "2          5   F  21.0   185.0    82.0  None      1        0\n",
       "3          5   F  21.0   185.0    82.0  None      1        0\n",
       "4          5   F  25.0   185.0    82.0  None      1        0\n",
       "...      ...  ..   ...     ...     ...   ...    ...      ...\n",
       "82248  55526   M  24.0   180.0    62.0  None      2        0\n",
       "82249  55526   M  28.0   180.0    62.0  None      2        0\n",
       "82250  55527   M  27.0   175.0    61.0  None      2        0\n",
       "82251  55533   M  29.0   194.0    80.0  None      2        0\n",
       "82252  55533   M  29.0   194.0    80.0  None      2        0\n",
       "\n",
       "[82253 rows x 8 columns]"
      ]
     },
     "execution_count": 9,
     "metadata": {},
     "output_type": "execute_result"
    }
   ],
   "source": [
    "subdf_c"
   ]
  },
  {
   "cell_type": "code",
   "execution_count": 10,
   "metadata": {},
   "outputs": [],
   "source": [
    "# Import packages for logistic regression and accuracy analysis\n",
    "from sklearn.model_selection import train_test_split\n",
    "from sklearn.linear_model import LogisticRegression\n",
    "from sklearn.metrics import accuracy_score"
   ]
  },
  {
   "cell_type": "code",
   "execution_count": 11,
   "metadata": {},
   "outputs": [],
   "source": [
    "X=subdf_c.drop(['ID','Sex','Medal','Medal_c'], axis=1)\n",
    "y=subdf_c['Medal_c']"
   ]
  },
  {
   "cell_type": "code",
   "execution_count": 12,
   "metadata": {},
   "outputs": [],
   "source": [
    "X_train,X_test, y_train, y_test=train_test_split(X, y, test_size=0.2, random_state=30)"
   ]
  },
  {
   "cell_type": "code",
   "execution_count": 13,
   "metadata": {},
   "outputs": [
    {
     "data": {
      "text/plain": [
       "LogisticRegression(C=1.0, class_weight=None, dual=False, fit_intercept=True,\n",
       "                   intercept_scaling=1, l1_ratio=None, max_iter=100,\n",
       "                   multi_class='auto', n_jobs=None, penalty='l2',\n",
       "                   random_state=None, solver='lbfgs', tol=0.0001, verbose=0,\n",
       "                   warm_start=False)"
      ]
     },
     "execution_count": 13,
     "metadata": {},
     "output_type": "execute_result"
    }
   ],
   "source": [
    "logreg=LogisticRegression()\n",
    "logreg.fit(X_train, y_train)"
   ]
  },
  {
   "cell_type": "code",
   "execution_count": 14,
   "metadata": {},
   "outputs": [],
   "source": [
    "y_pred=logreg.predict(X_test)"
   ]
  },
  {
   "cell_type": "code",
   "execution_count": 15,
   "metadata": {},
   "outputs": [
    {
     "name": "stdout",
     "output_type": "stream",
     "text": [
      "Coefficient for Age : 0.0072365847637659905\n",
      "Coefficient for Height : 0.026043306112177218\n",
      "Coefficient for Weight : 0.011216255297431754\n",
      "Coefficient for Sex_c : -0.6242313010099496\n"
     ]
    }
   ],
   "source": [
    "# Get the coefficients (or weights) of the independent variables\n",
    "coefficients = logreg.coef_\n",
    "\n",
    "# Print the coefficients\n",
    "for i, feature in enumerate(X_train.columns):\n",
    "    print(\"Coefficient for\", feature, \":\", coefficients[0][i])"
   ]
  },
  {
   "cell_type": "code",
   "execution_count": 16,
   "metadata": {},
   "outputs": [
    {
     "name": "stdout",
     "output_type": "stream",
     "text": [
      "Optimization terminated successfully.\n",
      "         Current function value: 0.398012\n",
      "         Iterations 6\n"
     ]
    }
   ],
   "source": [
    "# check p-values of each variable to see their significant levels\n",
    "import statsmodels.api as sm\n",
    "# Add a constant term to the independent variables (required for logistic regression)\n",
    "X_train_1 = sm.add_constant(X_train)\n",
    "# Create and fit the logistic regression model\n",
    "logreg1 = sm.Logit(y_train, X_train_1)\n",
    "result=logreg1.fit()"
   ]
  },
  {
   "cell_type": "code",
   "execution_count": 17,
   "metadata": {},
   "outputs": [
    {
     "name": "stdout",
     "output_type": "stream",
     "text": [
      "                           Logit Regression Results                           \n",
      "==============================================================================\n",
      "Dep. Variable:                Medal_c   No. Observations:                65802\n",
      "Model:                          Logit   Df Residuals:                    65797\n",
      "Method:                           MLE   Df Model:                            4\n",
      "Date:                Fri, 28 Jul 2023   Pseudo R-squ.:                 0.01942\n",
      "Time:                        03:43:38   Log-Likelihood:                -26190.\n",
      "converged:                       True   LL-Null:                       -26709.\n",
      "Covariance Type:            nonrobust   LLR p-value:                3.156e-223\n",
      "==============================================================================\n",
      "                 coef    std err          z      P>|z|      [0.025      0.975]\n",
      "------------------------------------------------------------------------------\n",
      "const         -6.3546      0.250    -25.450      0.000      -6.844      -5.865\n",
      "Age            0.0072      0.002      3.459      0.001       0.003       0.011\n",
      "Height         0.0260      0.002     15.028      0.000       0.023       0.029\n",
      "Weight         0.0112      0.001      9.093      0.000       0.009       0.014\n",
      "Sex_c         -0.6247      0.029    -21.691      0.000      -0.681      -0.568\n",
      "==============================================================================\n"
     ]
    }
   ],
   "source": [
    "# Get the summary of the logistic regression model\n",
    "print(result.summary())"
   ]
  },
  {
   "cell_type": "markdown",
   "metadata": {},
   "source": [
    "## Conclusion\n",
    "1. The age, height, weight, and gender of athletes play a crucial role in predicting medal-winning performances.\n",
    "2. Age, height, and weight exhibit a positive correlation with medal-winning outcomes, which is understandable given that advancing age often accompanies increased strength, skills, and experience. Similarly, height and weight positively impact attributes such as strength, speed, and other physiological responses.\n",
    "3. Interestingly, gender displays an inverse relationship with medal-winning success. This finding corroborates our previous analysis, which suggested that female athletes appear to have a higher likelihood of achieving medal-worthy performances compared to their male counterparts."
   ]
  },
  {
   "cell_type": "code",
   "execution_count": null,
   "metadata": {},
   "outputs": [],
   "source": []
  }
 ],
 "metadata": {
  "kernelspec": {
   "display_name": "Python 3",
   "language": "python",
   "name": "python3"
  },
  "language_info": {
   "codemirror_mode": {
    "name": "ipython",
    "version": 3
   },
   "file_extension": ".py",
   "mimetype": "text/x-python",
   "name": "python",
   "nbconvert_exporter": "python",
   "pygments_lexer": "ipython3",
   "version": "3.7.6"
  }
 },
 "nbformat": 4,
 "nbformat_minor": 4
}
